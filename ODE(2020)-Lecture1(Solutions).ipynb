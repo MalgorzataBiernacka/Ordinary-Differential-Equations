{
  "nbformat": 4,
  "nbformat_minor": 0,
  "metadata": {
    "colab": {
      "name": "Untitled6.ipynb",
      "provenance": [],
      "private_outputs": true,
      "authorship_tag": "ABX9TyN7NeXPLZfNlLtmESerD8PK",
      "include_colab_link": true
    },
    "kernelspec": {
      "name": "python3",
      "display_name": "Python 3"
    }
  },
  "cells": [
    {
      "cell_type": "markdown",
      "metadata": {
        "id": "view-in-github",
        "colab_type": "text"
      },
      "source": [
        "<a href=\"https://colab.research.google.com/github/tlyonsWIT/Ordinary-Differential-Equations/blob/master/ODE(2020)-Lecture1(Solutions).ipynb\" target=\"_parent\"><img src=\"https://colab.research.google.com/assets/colab-badge.svg\" alt=\"Open In Colab\"/></a>"
      ]
    },
    {
      "cell_type": "markdown",
      "metadata": {
        "id": "e8JwVp-S5caM"
      },
      "source": [
        "# Maths Ordinary Differential Equations\n",
        "\n",
        "## Using Symbolic Python (__sympy__) for Calculus\n",
        "\n",
        "\n",
        "__1.__ The first line of  __code cell__ below imports the __sympy__ library.\n",
        "\n",
        "__2.__ The second line imports the **init_printing** function\n",
        "\n",
        "__3.__ The third line activates __init_printing__\n",
        "\n",
        "\n",
        "* To run to cell press the __pay button__ to the left of the cell, or, click on the cell once, then press __SHIFT+ENTER__ to run."
      ]
    },
    {
      "cell_type": "code",
      "metadata": {
        "id": "HMPA-7sU5okn"
      },
      "source": [
        "from sympy import *\n",
        "from sympy import init_printing\n",
        "init_printing()"
      ],
      "execution_count": null,
      "outputs": []
    },
    {
      "cell_type": "markdown",
      "metadata": {
        "id": "ECpb8vkc6nUV"
      },
      "source": [
        "### Declaring a symbol \n",
        "\n",
        "* The cell below creates a symbol called __x__ (left of =). We can call this symbol anythig we want, we will call it $x$."
      ]
    },
    {
      "cell_type": "code",
      "metadata": {
        "id": "IW4QQmtJ5wV0"
      },
      "source": [
        "x=symbols('x')\n",
        "x"
      ],
      "execution_count": null,
      "outputs": []
    },
    {
      "cell_type": "code",
      "metadata": {
        "id": "V8PYZ7_M67V1"
      },
      "source": [
        "f=cosh(5*x)+4*atan(x/5) # atan is tha same as tan inverse"
      ],
      "execution_count": null,
      "outputs": []
    },
    {
      "cell_type": "code",
      "metadata": {
        "id": "Mt3j8sxlIoJT"
      },
      "source": [
        "f"
      ],
      "execution_count": null,
      "outputs": []
    },
    {
      "cell_type": "code",
      "metadata": {
        "id": "a1DGVnroIrq_"
      },
      "source": [
        "diff(f,x)"
      ],
      "execution_count": null,
      "outputs": []
    },
    {
      "cell_type": "code",
      "metadata": {
        "id": "d77sNMEiIycn"
      },
      "source": [
        "g=1/(x**2)+sqrt(x)\n",
        "g"
      ],
      "execution_count": null,
      "outputs": []
    },
    {
      "cell_type": "code",
      "metadata": {
        "id": "nZRqDn1AJmSQ"
      },
      "source": [
        "diff(g,x)"
      ],
      "execution_count": null,
      "outputs": []
    },
    {
      "cell_type": "code",
      "metadata": {
        "id": "bbnJ-fX3JuWt"
      },
      "source": [
        "#Use log() for ln()\n",
        "#Use asin() for sin inverse\n",
        "#Use exp() for e "
      ],
      "execution_count": null,
      "outputs": []
    },
    {
      "cell_type": "code",
      "metadata": {
        "id": "R-rnVoIQKK5j"
      },
      "source": [
        "g=log(4*x)+asin(x/4)"
      ],
      "execution_count": null,
      "outputs": []
    },
    {
      "cell_type": "code",
      "metadata": {
        "id": "7AL1j1XdLxwA"
      },
      "source": [
        "diff(g,x)"
      ],
      "execution_count": null,
      "outputs": []
    },
    {
      "cell_type": "code",
      "metadata": {
        "id": "mSfahMDIL_bN"
      },
      "source": [
        "g=4*asin(x/7)-5*exp(-x/4)"
      ],
      "execution_count": null,
      "outputs": []
    },
    {
      "cell_type": "code",
      "metadata": {
        "id": "tfjfy5w_MZ_5"
      },
      "source": [
        "diff(g,x)"
      ],
      "execution_count": null,
      "outputs": []
    },
    {
      "cell_type": "code",
      "metadata": {
        "id": "GGPe7SuAM6Bk"
      },
      "source": [
        "f=cosh(5*x)+4/(25+x**2)-sin(4*x)\n",
        "f"
      ],
      "execution_count": null,
      "outputs": []
    },
    {
      "cell_type": "code",
      "metadata": {
        "id": "Xn7Sgvh5PSvM"
      },
      "source": [
        "integrate(f,x)"
      ],
      "execution_count": null,
      "outputs": []
    },
    {
      "cell_type": "code",
      "metadata": {
        "id": "EZEWntVnPa4B"
      },
      "source": [
        "g=3/sqrt(16-x**2)+exp(4*x)\n",
        "g"
      ],
      "execution_count": null,
      "outputs": []
    },
    {
      "cell_type": "code",
      "metadata": {
        "id": "l19RlvWuQSGS"
      },
      "source": [
        "integrate(g,x)"
      ],
      "execution_count": null,
      "outputs": []
    },
    {
      "cell_type": "code",
      "metadata": {
        "id": "9BmwpHPsQWPJ"
      },
      "source": [
        ""
      ],
      "execution_count": null,
      "outputs": []
    },
    {
      "cell_type": "code",
      "metadata": {
        "id": "NWrEGXWER6O3"
      },
      "source": [
        ""
      ],
      "execution_count": null,
      "outputs": []
    }
  ]
}