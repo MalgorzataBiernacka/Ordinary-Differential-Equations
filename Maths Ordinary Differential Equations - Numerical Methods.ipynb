{
 "cells": [
  {
   "cell_type": "markdown",
   "metadata": {},
   "source": [
    "# Maths Ordinary Differential Equations\n",
    "\n",
    "## Numerical Methods for ODEs\n",
    "\n",
    "* In this Python workbook we will implement several methods for solving ordinary differential equations using numerical methods.\n",
    "\n",
    "* The methods we investigate include Euler's method, the Euler-Heun method and the Euler method for a system of ODEs.\n",
    "\n",
    "* Each of these methods will be covered in lectures also.\n",
    "\n",
    "* The purpose of this Python workbook is to compliment these lectures and implement the methods as they normally are in research and industry."
   ]
  },
  {
   "cell_type": "markdown",
   "metadata": {},
   "source": [
    "## Importing Libraries and Functions"
   ]
  },
  {
   "cell_type": "code",
   "execution_count": 1,
   "metadata": {},
   "outputs": [],
   "source": [
    "import numpy as np\n",
    "import matplotlib.pyplot as plt"
   ]
  },
  {
   "cell_type": "markdown",
   "metadata": {},
   "source": [
    "__import__ is a function that instructs Python to import the numpy library of functions and give it the abbreviated name np."
   ]
  },
  {
   "cell_type": "markdown",
   "metadata": {},
   "source": [
    "__Numpy__ is a library of functions, and contains several functions we are familiar with from lectures and from our scientific calculators. "
   ]
  },
  {
   "cell_type": "markdown",
   "metadata": {},
   "source": [
    "__Maptplotlib.pyplot__ is a library of Python functions we will use for plotting solutions of ODEs and any other functions we may want to visualise."
   ]
  },
  {
   "cell_type": "markdown",
   "metadata": {},
   "source": [
    "## Code cells & Markdown cells\n",
    "\n",
    "* In these Python work books, there are two types of cells we will use.\n",
    "\n",
    "#### Code Cells\n",
    "\n",
    "* The first of these are __code__ cells, where we type and run actual code. To run a code cell press __Shift+Enter__ together.\n",
    "\n",
    "#### Markdown Cells\n",
    "\n",
    "* The other type of cell is called a __markdown__ cell. The current cell is an example of a markdown cell. It is useful for presenting text when we want to explain code or equations. The edit a markdown cell double click it. Then press __Shit+Enter__ to render it in regular text."
   ]
  },
  {
   "cell_type": "markdown",
   "metadata": {},
   "source": [
    "# Euler's Method\n",
    "\n",
    "\n",
    "\n",
    "## Euler's method in theory\n",
    "\n",
    "* Euler's method is used to solve ordinary differential equations of the form\n",
    "\\\\[\\frac{dy}{dx}=f(x,y),\\\\]\n",
    "where $f(x,y)$ is some (possilby nonlinear) function of $x$ and $y$.\n",
    "\n",
    "\n",
    "* The basic idea behind Euler's method is the derivative is formally defined as\n",
    "\\\\[\\frac{dy}{dx}=\\lim_{h\\to0}\\frac{y(x+h)-y(x)}{h},\\\\]\n",
    "and so for a __small__ but finite value of $h$ we may make the approximation\n",
    "\\\\[\\frac{dy}{dx}\\approx\\frac{y(x+h)-y(x)}{h}.\\\\]\n",
    "\n",
    "\n",
    "* This means, if we know $y(x)$ and $\\frac{dy}{dx}$ at $x$, then we can _step x forward__ by $h$ to fins $y(x+h)$, using\n",
    "\\\\[y(x+h)\\approx y(x)+h\\frac{dy}{dx}.\\\\]\n",
    "\n",
    "\n",
    "* The next part of the idea is using the fact that the ODE allowes us to rewrite $\\frac{dy}{dx}$ in terms of $y(x)$ alone, i.e. it is just the right-hand side of the ODE, and so we have\n",
    "\\\\[y(x+h)\\approx y(x)+hf(x,y(x)).\\\\]"
   ]
  },
  {
   "cell_type": "markdown",
   "metadata": {},
   "source": [
    "## Euler's Method - Example 1\n",
    "\n",
    "* In this section we will go through the steps of creating the Euler method to solve the simple ODE\n",
    "\\\\[\\frac{dy}{dx}=\\frac{y^2}{5},\\quad y(1.2)=4.3,\\\\]\n",
    "and find its value at $x=1.5$.\n",
    "\n",
    "\n",
    "\n",
    "* While this ODE is nonlinear it can be solved directly, without numerical methods. However, it is a simple example to develop Python code for Euler's method to solve for $y$.\n",
    "\n",
    "\n",
    "* The first step is to create a Python function to represent $f(x,y)$. "
   ]
  },
  {
   "cell_type": "code",
   "execution_count": 17,
   "metadata": {},
   "outputs": [],
   "source": [
    "def f(y):\n",
    "    return y**2/5.0"
   ]
  },
  {
   "cell_type": "markdown",
   "metadata": {},
   "source": [
    "Next we define the __number of steps__ we want to use to estimate $y(1.5)$. We will use 50, however this is easily change in the cell below."
   ]
  },
  {
   "cell_type": "code",
   "execution_count": 57,
   "metadata": {},
   "outputs": [],
   "source": [
    "N=50"
   ]
  },
  {
   "cell_type": "markdown",
   "metadata": {},
   "source": [
    "The __step-size__ is now given by\n",
    "\\\\[h=\\frac{1.5-1.2}{50}.\\\\]"
   ]
  },
  {
   "cell_type": "code",
   "execution_count": 64,
   "metadata": {},
   "outputs": [
    {
     "data": {
      "text/plain": [
       "0.0005988023952095809"
      ]
     },
     "execution_count": 64,
     "metadata": {},
     "output_type": "execute_result"
    }
   ],
   "source": [
    "h=(1.5-1.2)/N\n",
    "h"
   ]
  },
  {
   "cell_type": "markdown",
   "metadata": {},
   "source": [
    "Now we create a __for loop__ that implements each step of Euler's method 50 times. However, we must first set up the initial condition $y(1.2)=4.3$"
   ]
  },
  {
   "cell_type": "code",
   "execution_count": 65,
   "metadata": {},
   "outputs": [],
   "source": [
    "x0=1.2\n",
    "y0=4.3"
   ]
  },
  {
   "cell_type": "markdown",
   "metadata": {},
   "source": [
    "#### Initialisation\n",
    "\n",
    "* When using computers to implement these numerical methods, it is usually necessary to initialise the solution y.\n",
    "\n",
    "* This usually means first setting the solution we seek to be initially zero, i.e. it is our first guess for the soulution.\n",
    "\n",
    "##### Note: This is not the same as setting the initial condition y(1.2)=4.3. It is the starting point the computer uses to calculate the solution we seek."
   ]
  },
  {
   "cell_type": "code",
   "execution_count": 60,
   "metadata": {},
   "outputs": [],
   "source": [
    "x=np.zeros(N+1)\n",
    "y=np.zeros(N+1)"
   ]
  },
  {
   "cell_type": "code",
   "execution_count": 66,
   "metadata": {},
   "outputs": [],
   "source": [
    "for i in range (1,N):\n",
    "    x[0]=x0\n",
    "    y[0]=y0\n",
    "    x[i]=x[i-1]+h\n",
    "    y[i] = y[i-1] + h*f(y[i-1])"
   ]
  },
  {
   "cell_type": "code",
   "execution_count": 67,
   "metadata": {},
   "outputs": [],
     "execution_count": 67,
     "metadata": {},
     "output_type": "execute_result"
    }
   ],
   "source": [
    "y"
   ]
  },
  {
   "cell_type": "code",
   "execution_count": 72,
   "metadata": {},
   "outputs": [],
   "source": [
    "x;"
   ]
  },
  {
   "cell_type": "markdown",
   "metadata": {},
   "source": [
    "### The exact solution\n",
    "\n",
    "* As was noted in the introduction to this example, this ODE has a exact solution, which is given by\n",
    "\\\\[y(x)=\\frac{21.5}{10.16-4.3x}.\\\\]\n",
    "\n",
    "\n",
    "* We create a Python function to represent this solution as follows:"
   ]
  },
  {
   "cell_type": "code",
   "execution_count": 69,
   "metadata": {},
   "outputs": [],
   "source": [
    "def y_ex(x):\n",
    "    return 21.5/(10.16-4.3*x)"
   ]
  },
  {
   "cell_type": "markdown",
   "metadata": {},
   "source": [
    "The exact values of $y$ at each of the values of $x$ above are given by"
   ]
  },
  {
   "cell_type": "code",
   "execution_count": 70,
   "metadata": {},
   "outputs": [,
     "execution_count": 70,
     "metadata": {},
     "output_type": "execute_result"
    }
   ],
   "source": [
    "y_ex(x)"
   ]
  },
  {
   "cell_type": "code",
   "execution_count": 74,
   "metadata": {},
   "outputs": []
     },
     "execution_count": 74,
     "metadata": {},
     "output_type": "execute_result"
    }
   ],
   "source": [
    "y_ex(x)-y"
   ]
  },
  {
   "cell_type": "markdown",
   "metadata": {},
   "source": [
    "* We see that the numerical and exact values are reasonably close, however there are some discrepancies towards the end of the list.\n",
    "\n",
    "\n",
    "* The reduce these differences we increase the number of steps __N__.\n",
    "\n",
    "\n",
    "* This has the effect of reducing the step-size __h__, which make the approximation of the derivative above.\n",
    "\n",
    "\n",
    "* Increase the the number of steps to __N=501__, and compare the numerical and  exact solutions again."
   ]
  },
  {
   "cell_type": "code",
   "execution_count": null,
   "metadata": {},
   "outputs": [],
   "source": []
  }
 ],
 "metadata": {
  "kernelspec": {
   "display_name": "Python 3",
   "language": "python",
   "name": "python3"
  },
  "language_info": {
   "codemirror_mode": {
    "name": "ipython",
    "version": 3
   },
   "file_extension": ".py",
   "mimetype": "text/x-python",
   "name": "python",
   "nbconvert_exporter": "python",
   "pygments_lexer": "ipython3",
   "version": "3.7.3"
  }
 },
 "nbformat": 4,
 "nbformat_minor": 2
}
