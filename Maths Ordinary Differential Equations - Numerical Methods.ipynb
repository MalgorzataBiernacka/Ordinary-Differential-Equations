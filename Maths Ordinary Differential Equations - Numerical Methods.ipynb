{
 "cells": [
  {
   "cell_type": "markdown",
   "metadata": {},
   "source": [
    "# Maths Ordinary Differential Equations\n",
    "\n",
    "## Numerical Methods for ODEs\n",
    "\n",
    "* In this Python workbook we will implement several methods for solving ordinary differential equations using numerical methods.\n",
    "\n",
    "\n",
    "* The methods we investigate include Euler's method, the Euler-Heun method and the Euler method for a system of ODEs.\n",
    "\n",
    "\n",
    "* Each of these methods will be covered in lectures also.\n",
    "\n",
    "\n",
    "* The purpose of this Python workbook is to compliment these lectures and implement the methods as they normally are in research and industry."
   ]
  },
  {
   "cell_type": "markdown",
   "metadata": {},
   "source": [
    "## Importing Libraries and Functions"
   ]
  },
  {
   "cell_type": "code",
   "execution_count": 1,
   "metadata": {},
   "outputs": [],
   "source": [
    "import numpy as np\n",
    "import matplotlib.pyplot as plt"
   ]
  },
  {
   "cell_type": "markdown",
   "metadata": {},
   "source": [
    "__import__ is a function that instructs Python to import the numpy library of functions and give it the abbreviated name np."
   ]
  },
  {
   "cell_type": "markdown",
   "metadata": {},
   "source": [
    "__numpy__ is a library of functions, and contains several functions we are familiar with from lectures and from our scientific calculators. "
   ]
  },
  {
   "cell_type": "markdown",
   "metadata": {},
   "source": [
    "__maptplotlib.pyplot__ is a library of Python functions we will use for plotting solutions of ODEs and any other functions we may want to visualise."
   ]
  },
  {
   "cell_type": "markdown",
   "metadata": {},
   "source": [
    "## Code cells & Markdown cells\n",
    "\n",
    "* In these Python work books, there are two types of cells we will use.\n",
    "\n",
    "#### Code Cells\n",
    "\n",
    "* The first of these are __code__ cells, where we type and run actual code. To run a code cell press __Shift+Enter__ together.\n",
    "\n",
    "#### Markdown Cells\n",
    "\n",
    "* The other type of cell is called a __markdown__ cell. The current cell is an example of a markdown cell. It is useful for presenting text when we want to explain code or equations. The edit a markdown cell double click it. Then press __Shit+Enter__ to render it in regular text."
   ]
  },
  {
   "cell_type": "markdown",
   "metadata": {},
   "source": [
    "# Euler's Method\n",
    "\n",
    "\n",
    "\n",
    "## Euler's method in theory\n",
    "\n",
    "* Euler's method is used to solve ordinary differential equations of the form\n",
    "\\\\[\\frac{dy}{dx}=f(x,y),\\\\]\n",
    "where $f(x,y)$ is some (possilby nonlinear) function of $x$ and $y$.\n",
    "\n",
    "\n",
    "\n",
    "* The basic idea behind Euler's method is the derivative is formally defined as\n",
    "\\\\[\\frac{dy}{dx}=\\lim_{h\\to0}\\frac{y(x+h)-y(x)}{h},\\\\]\n",
    "\n",
    "    and so for a __small__ but finite value of $h$ we may make the approximation\n",
    "\n",
    "\\\\[\\frac{dy}{dx}\\approx\\frac{y(x+h)-y(x)}{h}.\\\\]\n",
    "\n",
    "\n",
    "* This means, if we know $y(x)$ and $\\frac{dy}{dx}$ at $x$, then we can _step x forward__ by $h$ to fins $y(x+h)$, using\n",
    "\\\\[y(x+h)\\approx y(x)+h\\frac{dy}{dx}.\\\\]\n",
    "\n",
    "\n",
    "* The next part of the idea is using the fact that the ODE allowes us to rewrite $\\frac{dy}{dx}$ in terms of $y(x)$ alone, i.e. it is just the right-hand side of the ODE, and so we have\n",
    "\\\\[y(x+h)\\approx y(x)+hf(x,y(x)).\\\\]"
   ]
  },
  {
   "cell_type": "markdown",
   "metadata": {},
   "source": [
    "## Euler's Method - Example 1\n",
    "\n",
    "* In this section we will go through the steps of creating the Euler method to solve the simple ODE\n",
    "\\\\[\\frac{dy}{dx}=\\frac{x}{y},\\quad y(1.2)=4.3,\\\\]\n",
    "    and find its value at $x=1.5$.\n",
    "\n",
    "\n",
    "\n",
    "* This ODE is nonlinear it can be solved directly, without numerical methods. The __exact__ solution is\n",
    "\n",
    "\\\\[y(x)=(x^2+17.05)^{\\frac{1}{2}}\\\\]\n",
    "\n",
    "\n",
    "* However, it is a useful example to from which to impliment Euler's method using Python.\n",
    "\n",
    "\n",
    "* It has the added advantage that we can __compare__ the answer we get using __Euler's method__ with the known __exact__ answer.\n",
    "\n",
    "\n",
    "* The first step is to create a Python function to represent $f(x,y)$. "
   ]
  },
  {
   "cell_type": "code",
   "execution_count": 129,
   "metadata": {},
   "outputs": [],
   "source": [
    "def f(x,y):\n",
    "    return x/y"
   ]
  },
  {
   "cell_type": "markdown",
   "metadata": {},
   "source": [
    "Next we define the __number of steps__ we want to use to estimate $y(1.5)$. We will use $N=5$, however this is easily changed in the cell below."
   ]
  },
  {
   "cell_type": "code",
   "execution_count": 133,
   "metadata": {},
   "outputs": [],
   "source": [
    "N=5"
   ]
  },
  {
   "cell_type": "markdown",
   "metadata": {},
   "source": [
    "The __step-size__ is now given by\n",
    "\\\\[h=\\frac{1.5-1.2}{5}.\\\\]"
   ]
  },
  {
   "cell_type": "code",
   "execution_count": 135,
   "metadata": {},
   "outputs": [
    {
     "data": {
      "text/plain": [
       "0.06000000000000001"
      ]
     },
     "execution_count": 135,
     "metadata": {},
     "output_type": "execute_result"
    }
   ],
   "source": [
    "h=(1.5-1.2)/N\n",
    "h"
   ]
  },
  {
   "cell_type": "markdown",
   "metadata": {},
   "source": [
    "Now we create a __FOR LOOP__ which will implement each step of Euler's method 5 times. However, we first __initialize__ Python: "
   ]
  },
  {
   "cell_type": "markdown",
   "metadata": {},
   "source": [
    "### Initialisation\n",
    "\n",
    "* When using computers to implement these numerical methods, it is usually necessary to initialise the varaibles  __x and y__.\n",
    "\n",
    "\n",
    "* This usually means first setting these variables to be initially zero, i.e. it is our first guess for the soulution.\n",
    "\n",
    "##### Note: This is not the same as setting the initial condition y(1.2)=4.3. "
   ]
  },
  {
   "cell_type": "code",
   "execution_count": 136,
   "metadata": {},
   "outputs": [],
   "source": [
    "x=np.zeros(N)\n",
    "y=np.zeros(N)"
   ]
  },
  {
   "cell_type": "code",
   "execution_count": 137,
   "metadata": {},
   "outputs": [
    {
     "data": {
      "text/plain": [
       "array([ 0.,  0.,  0.,  0.,  0.])"
      ]
     },
     "execution_count": 137,
     "metadata": {},
     "output_type": "execute_result"
    }
   ],
   "source": [
    "x"
   ]
  },
  {
   "cell_type": "code",
   "execution_count": 138,
   "metadata": {},
   "outputs": [
    {
     "data": {
      "text/plain": [
       "array([ 0.,  0.,  0.,  0.,  0.])"
      ]
     },
     "execution_count": 138,
     "metadata": {},
     "output_type": "execute_result"
    }
   ],
   "source": [
    "y"
   ]
  },
  {
   "cell_type": "markdown",
   "metadata": {},
   "source": [
    "##### We are basically creating a structure to represent  __x, y__ so that a for loop can be applied later on."
   ]
  },
  {
   "cell_type": "markdown",
   "metadata": {},
   "source": [
    "### Initial Data\n",
    "\n",
    "* Next we implement the actual __initial data__ given as part of the initial value problem. \n",
    "\n",
    "\n",
    "* This is easily done in Python as follows:"
   ]
  },
  {
   "cell_type": "code",
   "execution_count": 139,
   "metadata": {},
   "outputs": [],
   "source": [
    "x0=1.2\n",
    "y0=4.3"
   ]
  },
  {
   "cell_type": "markdown",
   "metadata": {},
   "source": [
    "### The FOR LOOP\n",
    "\n",
    "* The __FOR LOOP__ is the Python code which will actully apply Euler's method 5 times to give us the solution we seek:"
   ]
  },
  {
   "cell_type": "code",
   "execution_count": 140,
   "metadata": {},
   "outputs": [],
   "source": [
    "for i in range (1,N):\n",
    "    x[0]=x0\n",
    "    y[0]=y0\n",
    "    x[i]=x[i-1]+h\n",
    "    y[i] = y[i-1] + h*f(x[i-1],y[i-1])"
   ]
  },
  {
   "cell_type": "code",
   "execution_count": 141,
   "metadata": {},
   "outputs": [
    {
     "data": {
      "text/plain": [
       "array([ 4.3       ,  4.31674419,  4.33425739,  4.35253041,  4.37155383])"
      ]
     },
     "execution_count": 141,
     "metadata": {},
     "output_type": "execute_result"
    }
   ],
   "source": [
    "y"
   ]
  },
  {
   "cell_type": "code",
   "execution_count": 142,
   "metadata": {},
   "outputs": [
    {
     "data": {
      "text/plain": [
       "array([ 1.2 ,  1.26,  1.32,  1.38,  1.44])"
      ]
     },
     "execution_count": 142,
     "metadata": {},
     "output_type": "execute_result"
    }
   ],
   "source": [
    "x"
   ]
  },
  {
   "cell_type": "markdown",
   "metadata": {},
   "source": [
    "### The exact solution\n",
    "\n",
    "* As was noted in the introduction to this example, this ODE has a exact solution, which is given by\n",
    "\n",
    "\\\\[y(x)=\\sqrt{x^2+17.05}.\\\\]\n",
    "\n",
    "\n",
    "* We create a Python function to represent this solution as follows:"
   ]
  },
  {
   "cell_type": "code",
   "execution_count": 143,
   "metadata": {},
   "outputs": [],
   "source": [
    "def y_exact(x):\n",
    "    return (x**2+17.05)**(1.0/2.0)"
   ]
  },
  {
   "cell_type": "markdown",
   "metadata": {},
   "source": [
    "The exact values of $y$ at each of the values of $x$ above are given by"
   ]
  },
  {
   "cell_type": "code",
   "execution_count": 144,
   "metadata": {},
   "outputs": [
    {
     "data": {
      "text/plain": [
       "array([ 4.3       ,  4.31712868,  4.33502018,  4.35366512,  4.37305385])"
      ]
     },
     "execution_count": 144,
     "metadata": {},
     "output_type": "execute_result"
    }
   ],
   "source": [
    "y_exact(x)"
   ]
  },
  {
   "cell_type": "markdown",
   "metadata": {},
   "source": [
    "## Plotting the Solutions\n",
    "\n",
    "* A very useful way of seeing how close Euler's method is to the actual solution is to plot both ranges of values obtained above, on the same graph.\n",
    "\n",
    "\n",
    "* This is implemented in Python as follows:"
   ]
  },
  {
   "cell_type": "code",
   "execution_count": 146,
   "metadata": {},
   "outputs": [
    {
     "data": {
      "image/png": "[encoded data removed]",
      "text/plain": [
       "<matplotlib.figure.Figure at 0x7fca5dfa7c90>"
      ]
     },
     "metadata": {},
     "output_type": "display_data"
    }
   ],
   "source": [
    "plt.plot(x,y,label='Euler solution')\n",
    "plt.plot(x,y_exact(x),label='Exact solution')\n",
    "plt.legend();"
   ]
  },
  {
   "cell_type": "markdown",
   "metadata": {},
   "source": [
    "* We see that the numerical and exact values are  close, however there are some small discrepancies.\n",
    "\n",
    "\n",
    "* To reduce these differences we increase the number of steps __N__.\n",
    "\n",
    "\n",
    "* This has the effect of reducing the step-size __h__, which gives a better approximation for the derivative.\n",
    "\n",
    "\n",
    "* Increase the the number of steps to __N = 100__, and compare the numerical and  exact solutions again."
   ]
  },
  {
   "cell_type": "markdown",
   "metadata": {},
   "source": [
    "## Exercise 1:\n",
    "\n",
    "The initial value problem\n",
    "\n",
    "\\\\[\\frac{dy}{dx}=\\frac{x}{\\sqrt{y}},\\quad y(1.5)=6.8\\\\]\n",
    "\n",
    "has an exact solution\n",
    "\n",
    "\\\\[y(x)=\\left(0.75x^2+16.044730542151203\\right)^{\\frac{2}{3}}.\\\\]\n",
    "\n",
    "\n",
    "1. Use __5 steps__ of Euler's method in the code above to find the solution at $x=4.0$.\n",
    "\n",
    "\n",
    "2. Plot the exact solution and Eulers solution on the same graph to compare asnwers.\n",
    "\n",
    "\n",
    "3. Is there much difference between the two answers?\n",
    "\n",
    "\n",
    "4. Increase the number of steps to __N = 100__ and compare the graphs again. Are the graphs a closer match? "
   ]
  },
  {
   "cell_type": "code",
   "execution_count": null,
   "metadata": {},
   "outputs": [],
   "source": []
  },
  {
   "cell_type": "code",
   "execution_count": null,
   "metadata": {},
   "outputs": [],
   "source": []
  },
  {
   "cell_type": "code",
   "execution_count": null,
   "metadata": {},
   "outputs": [],
   "source": []
  },
  {
   "cell_type": "code",
   "execution_count": null,
   "metadata": {},
   "outputs": [],
   "source": []
  },
  {
   "cell_type": "code",
   "execution_count": null,
   "metadata": {},
   "outputs": [],
   "source": []
  },
  {
   "cell_type": "code",
   "execution_count": null,
   "metadata": {},
   "outputs": [],
   "source": []
  },
  {
   "cell_type": "code",
   "execution_count": null,
   "metadata": {},
   "outputs": [],
   "source": []
  },
  {
   "cell_type": "code",
   "execution_count": null,
   "metadata": {},
   "outputs": [],
   "source": []
  },
  {
   "cell_type": "code",
   "execution_count": null,
   "metadata": {},
   "outputs": [],
   "source": []
  },
  {
   "cell_type": "code",
   "execution_count": null,
   "metadata": {},
   "outputs": [],
   "source": []
  },
  {
   "cell_type": "code",
   "execution_count": null,
   "metadata": {},
   "outputs": [],
   "source": []
  },
  {
   "cell_type": "code",
   "execution_count": null,
   "metadata": {},
   "outputs": [],
   "source": []
  },
  {
   "cell_type": "code",
   "execution_count": null,
   "metadata": {},
   "outputs": [],
   "source": []
  },
  {
   "cell_type": "code",
   "execution_count": null,
   "metadata": {},
   "outputs": [],
   "source": []
  },
  {
   "cell_type": "code",
   "execution_count": null,
   "metadata": {},
   "outputs": [],
   "source": []
  },
  {
   "cell_type": "code",
   "execution_count": null,
   "metadata": {},
   "outputs": [],
   "source": []
  },
  {
   "cell_type": "code",
   "execution_count": null,
   "metadata": {},
   "outputs": [],
   "source": []
  },
  {
   "cell_type": "code",
   "execution_count": null,
   "metadata": {},
   "outputs": [],
   "source": []
  }
 ],
 "metadata": {
  "kernelspec": {
   "display_name": "Python 2",
   "language": "python",
   "name": "python2"
  },
  "language_info": {
   "codemirror_mode": {
    "name": "ipython",
    "version": 2
   },
   "file_extension": ".py",
   "mimetype": "text/x-python",
   "name": "python",
   "nbconvert_exporter": "python",
   "pygments_lexer": "ipython2",
   "version": "2.7.15rc1"
  }
 },
 "nbformat": 4,
 "nbformat_minor": 2
}
