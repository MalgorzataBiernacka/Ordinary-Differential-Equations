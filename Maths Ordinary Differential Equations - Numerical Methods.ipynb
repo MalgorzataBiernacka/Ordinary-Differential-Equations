{
 "cells": [
  {
   "cell_type": "markdown",
   "metadata": {},
   "source": [
    "# Maths Ordinary Differential Equations\n",
    "\n",
    "## Numerical Methods for ODEs\n",
    "\n",
    "* In this Python workbook we will implement several methods for solving ordinary differential equations using numerical methods.\n",
    "\n",
    "* The methods we investigate include Euler's method, the Euler-Heun method and the Euler method for a system of ODEs.\n",
    "\n",
    "* Each of these methods will be covered in lectures also.\n",
    "\n",
    "* The purpose of this Python workbook is to compliment these lectures and implement the methods as they normally are in research and industry."
   ]
  },
  {
   "cell_type": "markdown",
   "metadata": {},
   "source": [
    "## Importing Libraries and Functions"
   ]
  },
  {
   "cell_type": "code",
   "execution_count": 6,
   "metadata": {},
   "outputs": [],
   "source": [
    "import numpy as np\n",
    "import matplotlib.pyplot as plt"
   ]
  },
  {
   "cell_type": "markdown",
   "metadata": {},
   "source": [
    "__import__ is a function that instructs Python to import the numpy library of functions and give it the abbreviated name np."
   ]
  },
  {
   "cell_type": "markdown",
   "metadata": {},
   "source": [
    "__Numpy__ is a library of functions, and contains several functions we are familiar with from lectures and from our scientific calculators. "
   ]
  },
  {
   "cell_type": "markdown",
   "metadata": {},
   "source": [
    "__Maptplotlib.pyplot__ is a library of Python functions we will use for plotting solutions of ODEs and any other functions we may want to visualise."
   ]
  },
  {
   "cell_type": "markdown",
   "metadata": {},
   "source": [
    "## Code cells & Markdown cells\n",
    "\n",
    "* In these Python work books, there are two types of cells we will use.\n",
    "\n",
    "#### Code Cells\n",
    "\n",
    "* The first of these are __code__ cells, where we type and run actual code. To run a code cell press __Shift+Enter__ together.\n",
    "\n",
    "#### Markdown Cells\n",
    "\n",
    "* The other type of cell is called a __markdown__ cell. The current cell is an example of a markdown cell. It is useful for presenting text when we want to explain code or equations. The edit a markdown cell double click it. Then press __Shit+Enter__ to render it in regular text."
   ]
  },
  {
   "cell_type": "markdown",
   "metadata": {},
   "source": [
    "# Euler's Method\n",
    "\n",
    "\n",
    "\n",
    "## Euler's method in theory\n",
    "\n",
    "* Euler's method is used to solve ordinary differential equations of the form\n",
    "\\\\[\\frac{dy}{dx}=f(x,y),\\\\]\n",
    "where $f(x,y)$ is some (possilby nonlinear) function of $x$ and $y$.\n",
    "\n",
    "\n",
    "* The basic idea behind Euler's method is the derivative is formally defined as\n",
    "\\\\[\\frac{dy}{dx}=\\lim_{h\\to0}\\frac{y(x+h)-y(x)}{h},\\\\]\n",
    "and so for a __small__ but finite value of $h$ we may make the approximation\n",
    "\\\\[\\frac{dy}{dx}\\approx\\frac{y(x+h)-y(x)}{h}.\\\\]\n",
    "\n",
    "\n",
    "* This means, if we know $y(x)$ and $\\frac{dy}{dx}$ at $x$, then we can _step x forward__ by $h$ to fins $y(x+h)$, using\n",
    "\\\\[y(x+h)\\approx y(x)+h\\frac{dy}{dx}.\\\\]\n",
    "\n",
    "\n",
    "* The next part of the idea is using the fact that the ODE allowes us to rewrite $\\frac{dy}{dx}$ in terms of $y(x)$ alone, i.e. it is just the right-hand side of the ODE, and so we have\n",
    "\\\\[y(x+h)\\approx y(x)+hf(x,y(x)).\\\\]"
   ]
  },
  {
   "cell_type": "markdown",
   "metadata": {},
   "source": [
    "## Euler's Method - Example 1\n",
    "\n",
    "* In this section we will go through the steps of creating the Euler method to solve the simple ODE\n",
    "\\\\[\\frac{dy}{dx}=\\frac{y^2}{5},\\quad y(1.2)=4.3,\\\\]\n",
    "and find its value at $x=1.5$.\n",
    "\n",
    "\n",
    "\n",
    "* While this ODE is nonlinear it can be solved directly, without numerical methods. However, it is a simple example to develop Python code for Euler's method to solve for $y$.\n",
    "\n",
    "\n",
    "* The first step is to create a Python function to represent $f(x,y)$. "
   ]
  },
  {
   "cell_type": "code",
   "execution_count": 7,
   "metadata": {},
   "outputs": [],
   "source": [
    "def f(y):\n",
    "    return y**2/5.0"
   ]
  },
  {
   "cell_type": "markdown",
   "metadata": {},
   "source": [
    "Next we define the __number of steps__ we want to use to estimate $y(1.5)$. We will use 50, however this is easily change in the cell below."
   ]
  },
  {
   "cell_type": "code",
   "execution_count": 8,
   "metadata": {},
   "outputs": [],
   "source": [
    "N=50"
   ]
  },
  {
   "cell_type": "markdown",
   "metadata": {},
   "source": [
    "The __step-size__ is now given by\n",
    "\\\\[h=\\frac{1.5-1.2}{50}.\\\\]"
   ]
  },
  {
   "cell_type": "code",
   "execution_count": 9,
   "metadata": {},
   "outputs": [
    {
     "data": {
      "text/plain": [
       "0.006000000000000001"
      ]
     },
     "execution_count": 9,
     "metadata": {},
     "output_type": "execute_result"
    }
   ],
   "source": [
    "h=(1.5-1.2)/N\n",
    "h"
   ]
  },
  {
   "cell_type": "markdown",
   "metadata": {},
   "source": [
    "Now we create a __for loop__ that implements each step of Euler's method 50 times. However, we must first set up the initial condition $y(1.2)=4.3$"
   ]
  },
  {
   "cell_type": "code",
   "execution_count": 10,
   "metadata": {},
   "outputs": [],
   "source": [
    "x0=1.2\n",
    "y0=4.3"
   ]
  },
  {
   "cell_type": "markdown",
   "metadata": {},
   "source": [
    "#### Initialisation\n",
    "\n",
    "* When using computers to implement these numerical methods, it is usually necessary to initialise the solution y.\n",
    "\n",
    "* This usually means first setting the solution we seek to be initially zero, i.e. it is our first guess for the soulution.\n",
    "\n",
    "##### Note: This is not the same as setting the initial condition y(1.2)=4.3. It is the starting point the computer uses to calculate the solution we seek."
   ]
  },
  {
   "cell_type": "code",
   "execution_count": 19,
   "metadata": {},
   "outputs": [],
   "source": [
    "x=np.zeros(N)\n",
    "y=np.zeros(N)"
   ]
  },
  {
   "cell_type": "code",
   "execution_count": 20,
   "metadata": {},
   "outputs": [],
   "source": [
    "for i in range (1,N):\n",
    "    x[0]=x0\n",
    "    y[0]=y0\n",
    "    x[i]=x[i-1]+h\n",
    "    y[i] = y[i-1] + h*f(y[i-1])"
   ]
  },
  {
   "cell_type": "code",
   "execution_count": 21,
   "metadata": {},
   "outputs": [
    {
     "data": {
      "text/plain": [
       "array([4.3       , 4.322188  , 4.34460557, 4.36725629, 4.3901438 ,\n",
       "       4.41327184, 4.4366442 , 4.46026477, 4.48413753, 4.50826651,\n",
       "       4.53265587, 4.55730984, 4.58223272, 4.60742895, 4.63290303,\n",
       "       4.65865958, 4.68470331, 4.71103905, 4.73767171, 4.76460635,\n",
       "       4.79184812, 4.81940229, 4.84727426, 4.87546954, 4.90399378,\n",
       "       4.93285277, 4.96205241, 4.99159877, 5.02149804, 5.05175657,\n",
       "       5.08238087, 5.11337758, 5.14475354, 5.17651572, 5.2086713 ,\n",
       "       5.24122761, 5.27419217, 5.30757269, 5.34137709, 5.37561346,\n",
       "       5.41029012, 5.44541561, 5.48099867, 5.51704829, 5.55357367,\n",
       "       5.59058429, 5.62808985, 5.66610032, 5.70462595, 5.74367726])"
      ]
     },
     "execution_count": 21,
     "metadata": {},
     "output_type": "execute_result"
    }
   ],
   "source": [
    "y"
   ]
  },
  {
   "cell_type": "code",
   "execution_count": 22,
   "metadata": {},
   "outputs": [
    {
     "data": {
      "text/plain": [
       "array([1.2  , 1.206, 1.212, 1.218, 1.224, 1.23 , 1.236, 1.242, 1.248,\n",
       "       1.254, 1.26 , 1.266, 1.272, 1.278, 1.284, 1.29 , 1.296, 1.302,\n",
       "       1.308, 1.314, 1.32 , 1.326, 1.332, 1.338, 1.344, 1.35 , 1.356,\n",
       "       1.362, 1.368, 1.374, 1.38 , 1.386, 1.392, 1.398, 1.404, 1.41 ,\n",
       "       1.416, 1.422, 1.428, 1.434, 1.44 , 1.446, 1.452, 1.458, 1.464,\n",
       "       1.47 , 1.476, 1.482, 1.488, 1.494])"
      ]
     },
     "execution_count": 22,
     "metadata": {},
     "output_type": "execute_result"
    }
   ],
   "source": [
    "x"
   ]
  },
  {
   "cell_type": "markdown",
   "metadata": {},
   "source": [
    "### The exact solution\n",
    "\n",
    "* As was noted in the introduction to this example, this ODE has a exact solution, which is given by\n",
    "\\\\[y(x)=\\frac{21.5}{10.16-4.3x}.\\\\]\n",
    "\n",
    "\n",
    "* We create a Python function to represent this solution as follows:"
   ]
  },
  {
   "cell_type": "code",
   "execution_count": 23,
   "metadata": {},
   "outputs": [],
   "source": [
    "def y_ex(x):\n",
    "    return 21.5/(10.16-4.3*x)"
   ]
  },
  {
   "cell_type": "markdown",
   "metadata": {},
   "source": [
    "The exact values of $y$ at each of the values of $x$ above are given by"
   ]
  },
  {
   "cell_type": "code",
   "execution_count": 24,
   "metadata": {},
   "outputs": [
    {
     "data": {
      "text/plain": [
       "array([4.3       , 4.32230308, 4.34483874, 4.36761061, 4.39062245,\n",
       "       4.41387805, 4.43738133, 4.46113624, 4.48514686, 4.50941734,\n",
       "       4.53395192, 4.55875493, 4.5838308 , 4.60918407, 4.63481935,\n",
       "       4.66074138, 4.68695501, 4.71346516, 4.74027692, 4.76739545,\n",
       "       4.79482605, 4.82257413, 4.85064525, 4.87904507, 4.9077794 ,\n",
       "       4.93685419, 4.96627552, 4.99604964, 5.02618291, 5.05668188,\n",
       "       5.08755324, 5.11880387, 5.15044078, 5.1824712 , 5.21490249,\n",
       "       5.24774225, 5.28099823, 5.3146784 , 5.34879092, 5.38334418,\n",
       "       5.41834677, 5.45380752, 5.48973547, 5.52613993, 5.56303043,\n",
       "       5.60041678, 5.63830903, 5.67671754, 5.71565291, 5.75512608])"
      ]
     },
     "execution_count": 24,
     "metadata": {},
     "output_type": "execute_result"
    }
   ],
   "source": [
    "y_ex(x)"
   ]
  },
  {
   "cell_type": "code",
   "execution_count": 25,
   "metadata": {},
   "outputs": [
    {
     "data": {
      "text/plain": [
       "array([-8.88178420e-16,  1.15083913e-04,  2.33164824e-04,  3.54324269e-04,\n",
       "        4.78646321e-04,  6.06217684e-04,  7.37127786e-04,  8.71468875e-04,\n",
       "        1.00933613e-03,  1.15082775e-03,  1.29604509e-03,  1.44509276e-03,\n",
       "        1.59807874e-03,  1.75511454e-03,  1.91631528e-03,  2.08179986e-03,\n",
       "        2.25169111e-03,  2.42611591e-03,  2.60520537e-03,  2.78909499e-03,\n",
       "        2.97792479e-03,  3.17183955e-03,  3.37098895e-03,  3.57552779e-03,\n",
       "        3.78561616e-03,  4.00141967e-03,  4.22310968e-03,  4.45086351e-03,\n",
       "        4.68486468e-03,  4.92530319e-03,  5.17237575e-03,  5.42628608e-03,\n",
       "        5.68724517e-03,  5.95547162e-03,  6.23119193e-03,  6.51464083e-03,\n",
       "        6.80606165e-03,  7.10570668e-03,  7.41383752e-03,  7.73072551e-03,\n",
       "        8.05665216e-03,  8.39190956e-03,  8.73680088e-03,  9.09164082e-03,\n",
       "        9.45675615e-03,  9.83248623e-03,  1.02191836e-02,  1.06172145e-02,\n",
       "        1.10269596e-02,  1.14488146e-02])"
      ]
     },
     "execution_count": 25,
     "metadata": {},
     "output_type": "execute_result"
    }
   ],
   "source": [
    "y_ex(x)-y"
   ]
  },
  {
   "cell_type": "markdown",
   "metadata": {},
   "source": [
    "* We see that the numerical and exact values are reasonably close, however there are some discrepancies towards the end of the list. \n",
    "\n",
    "\n",
    "* The differences between the two are typically of the order e-3 which Python uses to represent $10^{-3}$. This means, the differences are of the order of a few thousandths for most values of __x__.\n",
    "\n",
    "\n",
    "\n",
    "\n",
    "* The reduce these differences we increase the number of steps __N__.\n",
    "\n",
    "\n",
    "* This has the effect of reducing the step-size __h__, which make the approximation of the derivative above.\n",
    "\n",
    "\n",
    "* Increase the the number of steps to __N=500__, and compare the numerical and  exact solutions again."
   ]
  },
  {
   "cell_type": "code",
   "execution_count": null,
   "metadata": {},
   "outputs": [],
   "source": []
  }
 ],
 "metadata": {
  "kernelspec": {
   "display_name": "Python 3",
   "language": "python",
   "name": "python3"
  },
  "language_info": {
   "codemirror_mode": {
    "name": "ipython",
    "version": 3
   },
   "file_extension": ".py",
   "mimetype": "text/x-python",
   "name": "python",
   "nbconvert_exporter": "python",
   "pygments_lexer": "ipython3",
   "version": "3.7.1"
  }
 },
 "nbformat": 4,
 "nbformat_minor": 2
}
