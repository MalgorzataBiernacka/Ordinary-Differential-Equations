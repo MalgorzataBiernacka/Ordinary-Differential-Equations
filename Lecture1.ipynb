{
  "nbformat": 4,
  "nbformat_minor": 0,
  "metadata": {
    "colab": {
      "name": "Untitled6.ipynb",
      "provenance": [],
      "include_colab_link": true
    },
    "kernelspec": {
      "name": "python3",
      "display_name": "Python 3"
    }
  },
  "cells": [
    {
      "cell_type": "markdown",
      "metadata": {
        "id": "view-in-github",
        "colab_type": "text"
      },
      "source": [
        "<a href=\"https://colab.research.google.com/github/MalgorzataBiernacka/Ordinary-Differential-Equations/blob/master/Lecture1.ipynb\" target=\"_parent\"><img src=\"https://colab.research.google.com/assets/colab-badge.svg\" alt=\"Open In Colab\"/></a>"
      ]
    },
    {
      "cell_type": "markdown",
      "metadata": {
        "id": "e8JwVp-S5caM"
      },
      "source": [
        "# Maths Ordinary Differential Equations\n",
        "\n",
        "## Using Symbolic Python (__sympy__) for Calculus\n",
        "\n",
        "\n",
        "__1.__ The first line of  __code cell__ below imports the __sympy__ library.\n",
        "\n",
        "__2.__ The second line imports the **init_printing** function\n",
        "\n",
        "__3.__ The third line activates __init_printing__\n",
        "\n",
        "\n",
        "* To run to cell press the __pay button__ to the left of the cell, or, click on the cell once, then press __SHIFT+ENTER__ to run."
      ]
    },
    {
      "cell_type": "code",
      "metadata": {
        "id": "HMPA-7sU5okn"
      },
      "source": [
        "from sympy import *\n",
        "from sympy import init_printing\n",
        "init_printing()"
      ],
      "execution_count": 1,
      "outputs": []
    },
    {
      "cell_type": "markdown",
      "metadata": {
        "id": "ECpb8vkc6nUV"
      },
      "source": [
        "### Declaring a symbol \n",
        "\n",
        "* The cell below creates a symbol called __x__ (left of =). We can call this symbol anythig we want, we will call it $x$."
      ]
    },
    {
      "cell_type": "code",
      "metadata": {
        "id": "IW4QQmtJ5wV0",
        "outputId": "89d3298d-0030-414a-9bf5-616a7f13b2c9",
        "colab": {
          "base_uri": "https://localhost:8080/",
          "height": 38
        }
      },
      "source": [
        "x=symbols('x')\n",
        "x"
      ],
      "execution_count": 2,
      "outputs": [
        {
          "output_type": "execute_result",
          "data": {
            "image/png": "[encoded data removed]",
            "text/latex": "$$x$$",
            "text/plain": [
              "x"
            ]
          },
          "metadata": {
            "tags": []
          },
          "execution_count": 2
        }
      ]
    },
    {
      "cell_type": "code",
      "metadata": {
        "id": "V8PYZ7_M67V1",
        "outputId": "cd376ddc-4b9e-49b4-c6ef-fe72a779517b",
        "colab": {
          "base_uri": "https://localhost:8080/",
          "height": 38
        }
      },
      "source": [
        "f=cosh(5*x)+4*atan(x/5)\n",
        "f"
      ],
      "execution_count": 4,
      "outputs": [
        {
          "output_type": "execute_result",
          "data": {
            "image/png": "[encoded data removed]",
            "text/latex": "$$\\cosh{\\left (5 x \\right )} + 4 \\operatorname{atan}{\\left (\\frac{x}{5} \\right )}$$",
            "text/plain": [
              "                  ⎛x⎞\n",
              "cosh(5⋅x) + 4⋅atan⎜─⎟\n",
              "                  ⎝5⎠"
            ]
          },
          "metadata": {
            "tags": []
          },
          "execution_count": 4
        }
      ]
    },
    {
      "cell_type": "code",
      "metadata": {
        "id": "SHFU80VO-g53",
        "outputId": "88d18c2e-de95-47a3-e6e8-0451d9704f30",
        "colab": {
          "base_uri": "https://localhost:8080/",
          "height": 49
        }
      },
      "source": [
        "diff(f)\n"
      ],
      "execution_count": 5,
      "outputs": [
        {
          "output_type": "execute_result",
          "data": {
            "image/png": "[encoded data removed]",
            "text/latex": "$$5 \\sinh{\\left (5 x \\right )} + \\frac{4}{5 \\left(\\frac{x^{2}}{25} + 1\\right)}$$",
            "text/plain": [
              "                  4     \n",
              "5⋅sinh(5⋅x) + ──────────\n",
              "                ⎛ 2    ⎞\n",
              "                ⎜x     ⎟\n",
              "              5⋅⎜── + 1⎟\n",
              "                ⎝25    ⎠"
            ]
          },
          "metadata": {
            "tags": []
          },
          "execution_count": 5
        }
      ]
    },
    {
      "cell_type": "code",
      "metadata": {
        "id": "UjcINmKm_zu6",
        "outputId": "985721bf-76fc-4074-f33a-4a5c07e97917",
        "colab": {
          "base_uri": "https://localhost:8080/",
          "height": 38
        }
      },
      "source": [
        "g=(1/x**2)+sqrt(x)\n",
        "g"
      ],
      "execution_count": 6,
      "outputs": [
        {
          "output_type": "execute_result",
          "data": {
            "image/png": "[encoded data removed]",
            "text/latex": "$$\\sqrt{x} + \\frac{1}{x^{2}}$$",
            "text/plain": [
              "     1 \n",
              "√x + ──\n",
              "      2\n",
              "     x "
            ]
          },
          "metadata": {
            "tags": []
          },
          "execution_count": 6
        }
      ]
    },
    {
      "cell_type": "code",
      "metadata": {
        "id": "mL5JjQIa8DM_",
        "outputId": "9a41c3df-0b23-4115-97e2-ef9dc4d1585c",
        "colab": {
          "base_uri": "https://localhost:8080/",
          "height": 41
        }
      },
      "source": [
        "diff(g)"
      ],
      "execution_count": 7,
      "outputs": [
        {
          "output_type": "execute_result",
          "data": {
            "image/png": "[encoded data removed]",
            "text/latex": "$$- \\frac{2}{x^{3}} + \\frac{1}{2 \\sqrt{x}}$$",
            "text/plain": [
              "  2     1  \n",
              "- ── + ────\n",
              "   3   2⋅√x\n",
              "  x        "
            ]
          },
          "metadata": {
            "tags": []
          },
          "execution_count": 7
        }
      ]
    },
    {
      "cell_type": "code",
      "metadata": {
        "id": "fWbtpN3O8FkE",
        "outputId": "76a06980-0060-4fb4-a91e-049cf8388c03",
        "colab": {
          "base_uri": "https://localhost:8080/",
          "height": 38
        }
      },
      "source": [
        "g=log(4*x)+asin(x/4)\n",
        "g"
      ],
      "execution_count": 13,
      "outputs": [
        {
          "output_type": "execute_result",
          "data": {
            "image/png": "[encoded data removed]",
            "text/latex": "$$\\log{\\left (4 x \\right )} + \\operatorname{asin}{\\left (\\frac{x}{4} \\right )}$$",
            "text/plain": [
              "               ⎛x⎞\n",
              "log(4⋅x) + asin⎜─⎟\n",
              "               ⎝4⎠"
            ]
          },
          "metadata": {
            "tags": []
          },
          "execution_count": 13
        }
      ]
    },
    {
      "cell_type": "code",
      "metadata": {
        "id": "jqlWzB0s8TJc",
        "outputId": "4ab32814-9010-4702-d9fb-53d264bee68c",
        "colab": {
          "base_uri": "https://localhost:8080/",
          "height": 49
        }
      },
      "source": [
        "diff(g)"
      ],
      "execution_count": 9,
      "outputs": [
        {
          "output_type": "execute_result",
          "data": {
            "image/png": "[encoded data removed]",
            "text/latex": "$$\\frac{1}{4 \\sqrt{- \\frac{x^{2}}{16} + 1}} + \\frac{1}{x}$$",
            "text/plain": [
              "        1           1\n",
              "───────────────── + ─\n",
              "       __________   x\n",
              "      ╱    2         \n",
              "     ╱    x          \n",
              "4⋅  ╱   - ── + 1     \n",
              "  ╲╱      16         "
            ]
          },
          "metadata": {
            "tags": []
          },
          "execution_count": 9
        }
      ]
    },
    {
      "cell_type": "code",
      "metadata": {
        "id": "eAlQOw1t8egE",
        "outputId": "5c53513b-5f8d-400c-86ba-336bd3285f8d",
        "colab": {
          "base_uri": "https://localhost:8080/",
          "height": 38
        }
      },
      "source": [
        "g=4*asin(x/7)-5*exp(-x/4)\n",
        "g"
      ],
      "execution_count": 11,
      "outputs": [
        {
          "output_type": "execute_result",
          "data": {
            "image/png": "[encoded data removed]",
            "text/latex": "$$4 \\operatorname{asin}{\\left (\\frac{x}{7} \\right )} - 5 e^{- \\frac{x}{4}}$$",
            "text/plain": [
              "               -x \n",
              "               ───\n",
              "      ⎛x⎞       4 \n",
              "4⋅asin⎜─⎟ - 5⋅ℯ   \n",
              "      ⎝7⎠         "
            ]
          },
          "metadata": {
            "tags": []
          },
          "execution_count": 11
        }
      ]
    },
    {
      "cell_type": "code",
      "metadata": {
        "id": "aqGyC-e78xok"
      },
      "source": [
        ""
      ],
      "execution_count": null,
      "outputs": []
    }
  ]
}