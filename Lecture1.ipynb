{
  "nbformat": 4,
  "nbformat_minor": 0,
  "metadata": {
    "colab": {
      "name": "Untitled6.ipynb",
      "provenance": [],
      "include_colab_link": true
    },
    "kernelspec": {
      "name": "python3",
      "display_name": "Python 3"
    }
  },
  "cells": [
    {
      "cell_type": "markdown",
      "metadata": {
        "id": "view-in-github",
        "colab_type": "text"
      },
      "source": [
        "<a href=\"https://colab.research.google.com/github/MalgorzataBiernacka/Ordinary-Differential-Equations/blob/master/Lecture1.ipynb\" target=\"_parent\"><img src=\"https://colab.research.google.com/assets/colab-badge.svg\" alt=\"Open In Colab\"/></a>"
      ]
    },
    {
      "cell_type": "markdown",
      "metadata": {
        "id": "e8JwVp-S5caM"
      },
      "source": [
        "# Maths Ordinary Differential Equations\n",
        "\n",
        "## Using Symbolic Python (__sympy__) for Calculus\n",
        "\n",
        "\n",
        "__1.__ The first line of  __code cell__ below imports the __sympy__ library.\n",
        "\n",
        "__2.__ The second line imports the **init_printing** function\n",
        "\n",
        "__3.__ The third line activates __init_printing__\n",
        "\n",
        "\n",
        "* To run to cell press the __pay button__ to the left of the cell, or, click on the cell once, then press __SHIFT+ENTER__ to run."
      ]
    },
    {
      "cell_type": "code",
      "metadata": {
        "id": "HMPA-7sU5okn"
      },
      "source": [
        "from sympy import *\n",
        "from sympy import init_printing\n",
        "init_printing()"
      ],
      "execution_count": 2,
      "outputs": []
    },
    {
      "cell_type": "markdown",
      "metadata": {
        "id": "ECpb8vkc6nUV"
      },
      "source": [
        "### Declaring a symbol \n",
        "\n",
        "* The cell below creates a symbol called __x__ (left of =). We can call this symbol anythig we want, we will call it $x$."
      ]
    },
    {
      "cell_type": "code",
      "metadata": {
        "id": "IW4QQmtJ5wV0",
        "outputId": "bc178249-7d9c-4f94-891d-b266f3ff681f",
        "colab": {
          "base_uri": "https://localhost:8080/",
          "height": 38
        }
      },
      "source": [
        "x=symbols('x')\n",
        "x"
      ],
      "execution_count": 3,
      "outputs": [
        {
          "output_type": "execute_result",
          "data": {
            "image/png": "[encoded data removed]",
            "text/latex": "$$x$$",
            "text/plain": [
              "x"
            ]
          },
          "metadata": {
            "tags": []
          },
          "execution_count": 3
        }
      ]
    },
    {
      "cell_type": "code",
      "metadata": {
        "id": "V8PYZ7_M67V1",
        "outputId": "5ee7c666-b85f-4d0f-974c-1db733a049ee",
        "colab": {
          "base_uri": "https://localhost:8080/",
          "height": 38
        }
      },
      "source": [
        "f=4*x\n",
        "f"
      ],
      "execution_count": 4,
      "outputs": [
        {
          "output_type": "execute_result",
          "data": {
            "image/png": "[encoded data removed]",
            "text/latex": "$$4 x$$",
            "text/plain": [
              "4⋅x"
            ]
          },
          "metadata": {
            "tags": []
          },
          "execution_count": 4
        }
      ]
    },
    {
      "cell_type": "code",
      "metadata": {
        "id": "SHFU80VO-g53",
        "outputId": "fc640017-a240-4ef9-f94f-c59bcb4ebf6c",
        "colab": {
          "base_uri": "https://localhost:8080/",
          "height": 38
        }
      },
      "source": [
        "g=3*x\n",
        "g"
      ],
      "execution_count": 5,
      "outputs": [
        {
          "output_type": "execute_result",
          "data": {
            "image/png": "[encoded data removed]",
            "text/latex": "$$3 x$$",
            "text/plain": [
              "3⋅x"
            ]
          },
          "metadata": {
            "tags": []
          },
          "execution_count": 5
        }
      ]
    },
    {
      "cell_type": "code",
      "metadata": {
        "id": "UjcINmKm_zu6"
      },
      "source": [
        ""
      ],
      "execution_count": null,
      "outputs": []
    }
  ]
}