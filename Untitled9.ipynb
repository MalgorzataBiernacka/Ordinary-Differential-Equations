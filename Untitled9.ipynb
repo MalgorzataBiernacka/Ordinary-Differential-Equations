{
 "cells": [
  {
   "cell_type": "code",
   "execution_count": 1,
   "metadata": {},
   "outputs": [],
   "source": [
    "import numpy as np\n",
    "import matplotlib.pyplot as plt"
   ]
  },
  {
   "cell_type": "code",
   "execution_count": 15,
   "metadata": {},
   "outputs": [
    {
     "data": {
      "text/plain": [
       "[0, 1, 2, 3]"
      ]
     },
     "execution_count": 15,
     "metadata": {},
     "output_type": "execute_result"
    }
   ],
   "source": [
    "range(0,4)"
   ]
  },
  {
   "cell_type": "code",
   "execution_count": 16,
   "metadata": {},
   "outputs": [],
   "source": [
    "x=np.zeros(25)\n",
    "y=np.zeros(25)\n",
    "y0=0.3\n",
    "x0=0.0"
   ]
  },
  {
   "cell_type": "code",
   "execution_count": 37,
   "metadata": {},
   "outputs": [],
   "source": [
    "for i in range(1,25):\n",
    "    h=0.0001\n",
    "    y[0]=y0\n",
    "    x[0]=x0\n",
    "    x[i]=x[i-1]+h\n",
    "    y[i]=y[i-1]+2*y[i-1]*h"
   ]
  },
  {
   "cell_type": "code",
   "execution_count": 38,
   "metadata": {},
   "outputs": [
    {
     "data": {
      "text/plain": [
       "(0.0, 0.0023999999999999998)"
      ]
     },
     "execution_count": 38,
     "metadata": {},
     "output_type": "execute_result"
    }
   ],
   "source": [
    "x[0],x[-1]"
   ]
  },
  {
   "cell_type": "code",
   "execution_count": 39,
   "metadata": {},
   "outputs": [
    {
     "data": {
      "text/plain": [
       "array([  0.00000000e+00,   1.00000000e-04,   2.00000000e-04,\n",
       "         3.00000000e-04,   4.00000000e-04,   5.00000000e-04,\n",
       "         6.00000000e-04,   7.00000000e-04,   8.00000000e-04,\n",
       "         9.00000000e-04,   1.00000000e-03,   1.10000000e-03,\n",
       "         1.20000000e-03,   1.30000000e-03,   1.40000000e-03,\n",
       "         1.50000000e-03,   1.60000000e-03,   1.70000000e-03,\n",
       "         1.80000000e-03,   1.90000000e-03,   2.00000000e-03,\n",
       "         2.10000000e-03,   2.20000000e-03,   2.30000000e-03,\n",
       "         2.40000000e-03])"
      ]
     },
     "execution_count": 39,
     "metadata": {},
     "output_type": "execute_result"
    }
   ],
   "source": [
    "X=np.linspace(x[0],x[-1],25)\n",
    "X"
   ]
  },
  {
   "cell_type": "code",
   "execution_count": 40,
   "metadata": {},
   "outputs": [
    {
     "data": {
      "text/plain": [
       "array([ 0.3       ,  0.30006001,  0.30012002,  0.30018005,  0.3002401 ,\n",
       "        0.30030015,  0.30036022,  0.30042029,  0.30048038,  0.30054049,\n",
       "        0.3006006 ,  0.30066073,  0.30072086,  0.30078101,  0.30084118,\n",
       "        0.30090135,  0.30096154,  0.30102174,  0.30108195,  0.30114217,\n",
       "        0.3012024 ,  0.30126265,  0.30132291,  0.30138318,  0.30144346])"
      ]
     },
     "execution_count": 40,
     "metadata": {},
     "output_type": "execute_result"
    }
   ],
   "source": [
    "0.3*np.exp(2*X)"
   ]
  },
  {
   "cell_type": "code",
   "execution_count": 41,
   "metadata": {},
   "outputs": [
    {
     "data": {
      "text/plain": [
       "array([ 0.3       ,  0.30006   ,  0.30012001,  0.30018004,  0.30024007,\n",
       "        0.30030012,  0.30036018,  0.30042025,  0.30048034,  0.30054043,\n",
       "        0.30060054,  0.30066066,  0.30072079,  0.30078094,  0.30084109,\n",
       "        0.30090126,  0.30096144,  0.30102163,  0.30108184,  0.30114205,\n",
       "        0.30120228,  0.30126252,  0.30132278,  0.30138304,  0.30144332])"
      ]
     },
     "execution_count": 41,
     "metadata": {},
     "output_type": "execute_result"
    }
   ],
   "source": [
    "y"
   ]
  },
  {
   "cell_type": "code",
   "execution_count": null,
   "metadata": {},
   "outputs": [],
   "source": []
  }
 ],
 "metadata": {
  "kernelspec": {
   "display_name": "Python 2",
   "language": "python",
   "name": "python2"
  },
  "language_info": {
   "codemirror_mode": {
    "name": "ipython",
    "version": 2
   },
   "file_extension": ".py",
   "mimetype": "text/x-python",
   "name": "python",
   "nbconvert_exporter": "python",
   "pygments_lexer": "ipython2",
   "version": "2.7.15rc1"
  }
 },
 "nbformat": 4,
 "nbformat_minor": 2
}
