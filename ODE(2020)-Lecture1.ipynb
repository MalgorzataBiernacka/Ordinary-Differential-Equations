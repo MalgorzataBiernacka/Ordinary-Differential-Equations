{
  "nbformat": 4,
  "nbformat_minor": 0,
  "metadata": {
    "colab": {
      "name": "Untitled6.ipynb",
      "provenance": [],
      "private_outputs": true,
      "authorship_tag": "ABX9TyOyjfIlFTq8mn8lQdDReDGF",
      "include_colab_link": true
    },
    "kernelspec": {
      "name": "python3",
      "display_name": "Python 3"
    }
  },
  "cells": [
    {
      "cell_type": "markdown",
      "metadata": {
        "id": "view-in-github",
        "colab_type": "text"
      },
      "source": [
        "<a href=\"https://colab.research.google.com/github/tlyonsWIT/Ordinary-Differential-Equations/blob/master/ODE(2020)-Lecture1.ipynb\" target=\"_parent\"><img src=\"https://colab.research.google.com/assets/colab-badge.svg\" alt=\"Open In Colab\"/></a>"
      ]
    },
    {
      "cell_type": "markdown",
      "metadata": {
        "id": "e8JwVp-S5caM"
      },
      "source": [
        "# Maths Ordinary Differential Equations\n",
        "\n",
        "## Using Symbolic Python (__sympy__) for Calculus\n",
        "\n",
        "\n",
        "__1.__ The first line of  __code cell__ below imports the __sympy__ library.\n",
        "\n",
        "__2.__ The second line imports the **init_printing** function\n",
        "\n",
        "__3.__ The third line activates __init_printing__\n",
        "\n",
        "\n",
        "* To run to cell press the __pay button__ to the left of the cell, or, click on the cell once, then press __SHIFT+ENTER__ to run."
      ]
    },
    {
      "cell_type": "code",
      "metadata": {
        "id": "HMPA-7sU5okn"
      },
      "source": [
        "from sympy import *\n",
        "from sympy import init_printing\n",
        "init_printing()"
      ],
      "execution_count": null,
      "outputs": []
    },
    {
      "cell_type": "markdown",
      "metadata": {
        "id": "ECpb8vkc6nUV"
      },
      "source": [
        "### Declaring a symbol \n",
        "\n",
        "* The cell below creates a symbol called __x__ (left of =). We can call this symbol anythig we want, we will call it $x$."
      ]
    },
    {
      "cell_type": "code",
      "metadata": {
        "id": "IW4QQmtJ5wV0"
      },
      "source": [
        "x=symbols('x')\n",
        "x"
      ],
      "execution_count": null,
      "outputs": []
    },
    {
      "cell_type": "code",
      "metadata": {
        "id": "V8PYZ7_M67V1"
      },
      "source": [
        ""
      ],
      "execution_count": null,
      "outputs": []
    }
  ]
}